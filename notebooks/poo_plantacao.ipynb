{
 "cells": [
  {
   "cell_type": "markdown",
   "metadata": {},
   "source": [
    "# Visão Geral\n",
    "\n",
    "Esse _notebook_ apresenta a criação passo a passo de um sistema que simula o gerenciamento de uma plantação. O sistema foi desenvolvido para fins didáticos de explanação de conceitos realacionados à programação orientada à objetos em Python.\n",
    "\n",
    "Autores:\n",
    "* Alexis Jordão Gonçalves Pereira\n",
    "* Fernanda Chacon Fontoura\n",
    "* Matheus Batistussi Ribeiro\n",
    "* Thiago de Oliveira\n",
    "* Victor Liberalino\n",
    "\n",
    "\n",
    "Adaptado de [McNicol](https://pythonschool.net/oop/introduction-to-object-oriented-programming/)"
   ]
  },
  {
   "cell_type": "markdown",
   "metadata": {},
   "source": [
    "# Importando módulos"
   ]
  },
  {
   "cell_type": "code",
   "execution_count": 178,
   "metadata": {
    "collapsed": true
   },
   "outputs": [],
   "source": [
    "import random # gerar números aleatórios\n",
    "from termcolor import colored # color prints"
   ]
  },
  {
   "cell_type": "markdown",
   "metadata": {},
   "source": [
    "# Criando uma Classe\n",
    "\n",
    "__Construtor__: o código abaixo exemplifica a criação de uma classe Crop (Plantação) e seu construtor (método \\_\\_init\\_\\_, construtor padrão do python). Em um projeto estruturado orientado a objetos, podemos salvar essa classe em um arquivo crop_class.py. O primeiro comentário de cada bloco de código desse _notebook_ indica o arquivo python em que o código está inserido.\n"
   ]
  },
  {
   "cell_type": "code",
   "execution_count": 179,
   "metadata": {
    "collapsed": true
   },
   "outputs": [],
   "source": [
    "# crop_class.py\n",
    "class Crop:\n",
    "    \"\"\"Uma plantação de alimentos\"\"\"\n",
    "    \n",
    "    # Construtor\n",
    "    def __init__(self, growth_rate, light_need, water_need):\n",
    "        \n",
    "        # Inicia os atributos: crescimento, dias crescendo, \n",
    "        # taxa de crescimento, luz necessária,\n",
    "        # água necessária, estado e tipo da plantação        \n",
    "        self._growth = 0\n",
    "        self._days_growing = 0\n",
    "        self._growth_rate = growth_rate\n",
    "        self._light_need = light_need\n",
    "        self._water_need = water_need\n",
    "        self._status = \"Semente\"\n",
    "        self._type = \"Generica\"\n",
    "        "
   ]
  },
  {
   "cell_type": "code",
   "execution_count": 180,
   "metadata": {},
   "outputs": [
    {
     "name": "stdout",
     "output_type": "stream",
     "text": [
      "Uma plantação de alimentos\n"
     ]
    }
   ],
   "source": [
    "print(Crop.__doc__) # Imprime a docstring da classe"
   ]
  },
  {
   "cell_type": "markdown",
   "metadata": {},
   "source": [
    "__Nota__:\n",
    "    O _underscore_ antes do nome do atributo indica que o atributo é privado. Sem ele, o atributo é público."
   ]
  },
  {
   "cell_type": "markdown",
   "metadata": {},
   "source": [
    "## Instanciando os objetos\n",
    "\n",
    "Criamos aqui uma função principal a ser chamada para executar o nosso programa. Essa função será modificada ao longo desse _notebook_ dependendo da demonstração que desejamos realizar."
   ]
  },
  {
   "cell_type": "code",
   "execution_count": 181,
   "metadata": {
    "scrolled": false
   },
   "outputs": [
    {
     "name": "stdout",
     "output_type": "stream",
     "text": [
      "Estado = Semente\n",
      "Luz necessária = 4\n",
      "Água necessária = 3\n"
     ]
    }
   ],
   "source": [
    "# crop_class.py\n",
    "def main():\n",
    "    \"\"\"Essa função main instancia um novo objeto e acessa alguns atributos privados\"\"\"\n",
    "\n",
    "    # Instanciando dois objetos Crop\n",
    "    new_crop = Crop(1, 4, 3)\n",
    "    new_crop2 = Crop(2, 3, 7)\n",
    "    \n",
    "    # Teste 1: acessar atributos internos diretamente\n",
    "    print(\"Estado = {}\".format(new_crop._status))\n",
    "    print(\"Luz necessária = {}\".format(new_crop._light_need))\n",
    "    print(\"Água necessária = {}\".format(new_crop._water_need))\n",
    "    \n",
    "if __name__ == \"__main__\":\n",
    "    main()"
   ]
  },
  {
   "cell_type": "markdown",
   "metadata": {},
   "source": [
    "A condição $if __name__ == \"__main__\"$ indica que a função _main_ só será executada caso o módulo em questão seja executado, ou seja, somente se executarmos $crop\\_class.py$. Se esse módulo for importado em outro arquivo python, a função main só será executada caso ela seja chamada explicitamente."
   ]
  },
  {
   "cell_type": "markdown",
   "metadata": {},
   "source": [
    "__Nota__: esse exemplo apenas ilustra como acessar os atributos de um objeto. Por boas práticas, os atributos privados não devem ser acessados dessa forma."
   ]
  },
  {
   "cell_type": "markdown",
   "metadata": {},
   "source": [
    "# Adicionando Métodos à Classe"
   ]
  },
  {
   "cell_type": "markdown",
   "metadata": {},
   "source": [
    "__Encapstulamento__: O encapsulamento esconde os detalhes de uma implementação para o usuário. Dessa forma, o usuário pode apenas chamar um método que retorne os atributos que ele deseja, sem a necessidade de entender os detalhes da implementação, não sendo necessário acessar os atributos privados da classe.\n",
    "\n",
    "__Interface__: permite a interação com objetos de uma forma predefinida.\n",
    "\n",
    "Vamos adicionar os seguintes métodos à classe Crop:\n",
    "* needs: retorna a quantidade de água e luz que a plantação necessita para crescer\n",
    "* report: retorna uma visão geral atual da plantação (tipo, estado atual, o quanto cresceu e quantos dias de crescimento) \n",
    "* grow: retorna a taxa de crescimento dadas as quantidades de luz e água atuais\n",
    "* \\_update\\_status: atualiza o estado de crescimento\n",
    "\n",
    "Nessa etapa, temos o seguinte _snapshot_ do programa:"
   ]
  },
  {
   "cell_type": "markdown",
   "metadata": {},
   "source": [
    "__Snapshot 1:__\n",
    "* Class Crop(growth_rate, light_need, water_need)\n",
    "    * needs()\n",
    "    * report()\n",
    "    * grow(light, water)\n",
    "    * \\_update\\_status()\n",
    "* Function main()"
   ]
  },
  {
   "cell_type": "code",
   "execution_count": 182,
   "metadata": {
    "collapsed": true,
    "scrolled": false
   },
   "outputs": [],
   "source": [
    "# crop_class.py\n",
    "class Crop:\n",
    "    \"\"\"Uma plantação de alimentos plantados\"\"\"\n",
    "    \n",
    "    # Construtor\n",
    "    def __init__(self, growth_rate, light_need, water_need):\n",
    "        \n",
    "        # Inicia os atributos: crescimento, dias crescendo, \n",
    "        # taxa de crescimento, luz necessária,\n",
    "        # água necessária, estado e tipo da plantação        \n",
    "        self._growth = 0\n",
    "        self._days_growing = 0\n",
    "        self._growth_rate = growth_rate\n",
    "        self._light_need = light_need\n",
    "        self._water_need = water_need\n",
    "        self._status = \"Semente\"\n",
    "        self._type = \"Generica\"\n",
    "        \n",
    "    def needs(self):\n",
    "        \"\"\"Retorna um dicionário contendo os valores de luz e água necessários para a plantação crescer\"\"\"\n",
    "\n",
    "        return {'luz necessaria': self._light_need, 'agua necessaria': self._water_need}\n",
    "\n",
    "    def report(self):\n",
    "        \"\"\"Rertona um dicionário contendo o tipo, estado, crescimento e dias de crescimento da plantação\"\"\"\n",
    "\n",
    "        return {'tipo': self._type, 'estado': self._status, 'crescimento': self._growth, \n",
    "                'dias crescendo': self._days_growing}\n",
    "    \n",
    "    # Método privado: atualiza o estado de crescimento da plantação\n",
    "    def _update_status(self):\n",
    "        if self._growth > 15:\n",
    "            self._status = \"Velha\"\n",
    "        elif self._growth > 10:\n",
    "            self._status = \"Adulta\"\n",
    "        elif self._growth > 5:\n",
    "            self._status = \"Nova\"\n",
    "        elif self._growth > 0:\n",
    "            self._status = \"Germinando\"\n",
    "        else:\n",
    "            self._status = \"Semente\"\n",
    "            \n",
    "    # Método que implementa o crescimento da plantação baseado nos valores de água e luz\n",
    "    def grow(self, light, water):\n",
    "        if light >= self._light_need and water >= self._water_need:\n",
    "            self._growth += self._growth_rate\n",
    "        \n",
    "        # Incrementa a quantidade de dias em que a plantação está crescendo\n",
    "        self._days_growing += 1\n",
    "        \n",
    "        # Atualiza estado da plantação\n",
    "        self._update_status()\n"
   ]
  },
  {
   "cell_type": "markdown",
   "metadata": {},
   "source": [
    "Desejamos acessar a quantidade de água e luz necessárias para que a plantação cresça, simular um crescimento e ver um relatório da plantação após o crescimento"
   ]
  },
  {
   "cell_type": "code",
   "execution_count": 183,
   "metadata": {
    "scrolled": false
   },
   "outputs": [
    {
     "name": "stdout",
     "output_type": "stream",
     "text": [
      "Necessidades: {'agua necessaria': 3, 'luz necessaria': 4}\n",
      "Luz necessária: 4\n",
      "Relatório 1: {'crescimento': 0, 'dias crescendo': 0, 'tipo': 'Generica', 'estado': 'Semente'}\n",
      "Chamada do método grow: new_crop.grow(4, 4)\n",
      "Relatório 2: {'crescimento': 1, 'dias crescendo': 1, 'tipo': 'Generica', 'estado': 'Germinando'}\n"
     ]
    }
   ],
   "source": [
    "# crop_class.py\n",
    "def main():\n",
    "    \"\"\"Essa função main instancia um novo objeto e acessa alguns atributos através de métodos definidos na classe\"\"\"\n",
    "\n",
    "    # Instanciando um objeto Crop\n",
    "    new_crop = Crop(1, 4, 3)\n",
    "\n",
    "    # Teste 2: acessar atributos através de métodos\n",
    "    # O argumento _self_ é passado automaticamente\n",
    "    print(\"Necessidades: {}\".format(new_crop.needs()))\n",
    "    print(\"Luz necessária: {}\".format(new_crop.needs()[\"luz necessaria\"]))\n",
    "    print(\"Relatório 1: {}\".format(new_crop.report()))\n",
    "    # Fazendo a safra crescer\n",
    "    print(\"Chamada do método grow: new_crop.grow(4, 4)\")\n",
    "    new_crop.grow(4, 4)\n",
    "    print(\"Relatório 2: {}\".format(new_crop.report()))\n",
    "    \n",
    "if __name__ == \"__main__\":\n",
    "    main()"
   ]
  },
  {
   "cell_type": "markdown",
   "metadata": {},
   "source": [
    "__Nota__: Utilizamos dicionários (estrutura da forma _key:value_) para retornar os atributos de um objeto."
   ]
  },
  {
   "cell_type": "markdown",
   "metadata": {},
   "source": [
    "# Testando a Funcionalidade da Classe\n",
    "\n",
    "Após criada a classe e dado à ela sua funcionalidade, utilizaremos duas funções para testá-la:\n",
    "\n",
    "* auto_grow(): chama o método grow() para uma instância de _Crop_ [_days_] vezes, com quantidades aleatórias de água e luz\n",
    "\n",
    "* manual_grow(): chama o método grow() para a instância [crop] requisitando ao usuário o valor de água e luz"
   ]
  },
  {
   "cell_type": "markdown",
   "metadata": {},
   "source": [
    "__Snapshot 2:__\n",
    "* Class Crop(growth_rate, light_need, water_need):\n",
    "    * needs()\n",
    "    * report()\n",
    "    * grow(light, water)\n",
    "    * \\_update\\_status()\n",
    "* Function main()\n",
    "* Function auto_grow(crop, days)\n",
    "* Function manual_grow(crop)"
   ]
  },
  {
   "cell_type": "code",
   "execution_count": 184,
   "metadata": {},
   "outputs": [],
   "source": [
    "# crop_class.py\n",
    "def auto_grow(crop, days):\n",
    "    \"\"\"Faz a plantação crescer automaticamente com valores aleatórios de luz e água\"\"\"\n",
    "\n",
    "    for day in range(days):\n",
    "        light = random.randint(1, 10)\n",
    "        water = random.randint(1, 10)\n",
    "        crop.grow(light, water)\n",
    "\n",
    "def manual_grow(crop):\n",
    "    \"\"\"Faz a plantação crescer manualmente requisitando ao usuário o valor de água e luz\"\"\"\n",
    "    \n",
    "    valid = False\n",
    "    while not valid:\n",
    "        try:\n",
    "            light = int(input(\"Por favor, insira o valor de luz (1-10): \"))\n",
    "            if 1 <= light <= 10:\n",
    "                valid = True\n",
    "            else:\n",
    "                print(colored(\"Valor inválido - por favor, insira um valor entre 1 e 10\",\"red\"))\n",
    "        except ValueError:\n",
    "            print(colored(\"Valor inválido - por favor, insira um valor entre 1 e 10\",\"red\"))\n",
    "            \n",
    "    valid = False\n",
    "    while not valid:\n",
    "        try:\n",
    "            water = int(input(\"Por favor, insira o valor de água (1-10): \"))\n",
    "            if 1 <= water <= 10:\n",
    "                valid = True\n",
    "            else:\n",
    "                print(\"Valor inválido - por favor, insira um valor entre 1 e 10\")\n",
    "        except ValueError:\n",
    "            print(\"Valor inválido - por favor, insira um valor entre 1 e 10\")\n",
    "    \n",
    "    # Fazendo a plantação crescer\n",
    "    crop.grow(light, water)"
   ]
  },
  {
   "cell_type": "markdown",
   "metadata": {},
   "source": [
    "__Nota__: a função $manual\\_grow()$ trata erros do tipo _ValueError_, que nesse caso irá ocorrer quando o usuário tentar digitar algum valor não inteiro ou que não está entre 1 e 10."
   ]
  },
  {
   "cell_type": "markdown",
   "metadata": {},
   "source": [
    "# Menu de Gerenciamento\n",
    "\n",
    "Para facilitar o gerenciamento da safra, criamos um menu de gerenciamento. Nesse ponto, o menu é composto pelas seguintes funcionalidades:\n",
    "\n",
    "* Gerenciar Plantação:\n",
    "    1. Realizar crescimento manual\n",
    "    2. Realizar crescimento automático por 30 dias\n",
    "    3. Mostrar relatório da plantação\n",
    "    4. Sair do programa"
   ]
  },
  {
   "cell_type": "code",
   "execution_count": 185,
   "metadata": {},
   "outputs": [
    {
     "name": "stdout",
     "output_type": "stream",
     "text": [
      "\n",
      "Esse é o programa de gerenciamento da plantação\n",
      "\n",
      "\u001b[34m1. Realizar crescimento por 1 dia\u001b[0m\n",
      "\u001b[34m2. Realizar crescimento automático por 30 dias\u001b[0m\n",
      "\u001b[34m3. Mostrar relatório\u001b[0m\n",
      "\u001b[34m4. Sair do programa\u001b[0m\n",
      "\n",
      "Opção selecionada: 1\n",
      "\n",
      "Por favor, insira o valor de luz (1-10): 9\n",
      "Por favor, insira o valor de água (1-10): 8\n",
      "\n",
      "\u001b[34m1. Realizar crescimento por 1 dia\u001b[0m\n",
      "\u001b[34m2. Realizar crescimento automático por 30 dias\u001b[0m\n",
      "\u001b[34m3. Mostrar relatório\u001b[0m\n",
      "\u001b[34m4. Sair do programa\u001b[0m\n",
      "\n",
      "Opção selecionada: 3\n",
      "\n",
      "\u001b[32m{'crescimento': 1, 'dias crescendo': 1, 'tipo': 'Generica', 'estado': 'Germinando'}\u001b[0m\n",
      "\n",
      "\u001b[34m1. Realizar crescimento por 1 dia\u001b[0m\n",
      "\u001b[34m2. Realizar crescimento automático por 30 dias\u001b[0m\n",
      "\u001b[34m3. Mostrar relatório\u001b[0m\n",
      "\u001b[34m4. Sair do programa\u001b[0m\n",
      "\n",
      "Opção selecionada: 2\n",
      "\n",
      "\n",
      "\u001b[34m1. Realizar crescimento por 1 dia\u001b[0m\n",
      "\u001b[34m2. Realizar crescimento automático por 30 dias\u001b[0m\n",
      "\u001b[34m3. Mostrar relatório\u001b[0m\n",
      "\u001b[34m4. Sair do programa\u001b[0m\n",
      "\n",
      "Opção selecionada: 3\n",
      "\n",
      "\u001b[32m{'crescimento': 13, 'dias crescendo': 31, 'tipo': 'Generica', 'estado': 'Adulta'}\u001b[0m\n",
      "\n",
      "\u001b[34m1. Realizar crescimento por 1 dia\u001b[0m\n",
      "\u001b[34m2. Realizar crescimento automático por 30 dias\u001b[0m\n",
      "\u001b[34m3. Mostrar relatório\u001b[0m\n",
      "\u001b[34m4. Sair do programa\u001b[0m\n",
      "\n",
      "Opção selecionada: 4\n",
      "\n",
      "\n",
      "Obrigado por utilizar o gerenciador da plantação!\n"
     ]
    }
   ],
   "source": [
    "# crop_class.py\n",
    "\n",
    "def display_menu():\n",
    "    print(colored(\"1. Realizar crescimento por 1 dia\",\"blue\"))\n",
    "    print(colored(\"2. Realizar crescimento automático por 30 dias\",\"blue\"))\n",
    "    print(colored(\"3. Mostrar relatório\",\"blue\"))\n",
    "    print(colored(\"4. Sair do programa\",\"blue\"))\n",
    "    print()\n",
    "def get_menu_choice():\n",
    "    option_valid = False\n",
    "    while not option_valid:\n",
    "        try:\n",
    "            choice = int(input(\"Opção selecionada: \"))\n",
    "            if 0 <= choice <= 4:\n",
    "                option_valid = True\n",
    "            else:\n",
    "                print(colored(\"Por favor, insira uma opção válida\",\"red\"))\n",
    "\n",
    "        except ValueError:\n",
    "            print(colored(\"Por favor, insira uma opção válida\",\"red\"))\n",
    "    return choice\n",
    "\n",
    "def manage_crop(crop):\n",
    "    print()\n",
    "    print(\"Esse é o programa de gerenciamento da plantação\\n\")\n",
    "    noexit = True\n",
    "    while noexit:\n",
    "        display_menu()\n",
    "        option = get_menu_choice()\n",
    "        print()\n",
    "        if option == 1:\n",
    "            manual_grow(crop)\n",
    "            print()\n",
    "        elif option == 2:\n",
    "            auto_grow(crop, 30)\n",
    "            print()\n",
    "        elif option == 3:\n",
    "            print(colored(crop.report(),\"green\"))\n",
    "            print()\n",
    "        elif option == 4:\n",
    "            noexit = False\n",
    "            print()\n",
    "    print(\"Obrigado por utilizar o gerenciador da plantação!\")\n",
    "        \n",
    "    \n",
    "    \n",
    "def main():\n",
    "    \"\"\"Função main\"\"\"\n",
    "\n",
    "    # Instanciando um objeto Crop\n",
    "    # Crop(growth_rate, light_need, water_need)\n",
    "    new_crop = Crop(1, 4, 3)\n",
    "    manage_crop(new_crop)\n",
    "\n",
    "    \n",
    "if __name__ == \"__main__\":\n",
    "    main()"
   ]
  },
  {
   "cell_type": "markdown",
   "metadata": {},
   "source": [
    "# Herança\n",
    "\n",
    "Até agora, foram criadas classes genéricas de uma plantação, porém queremos também tipos de plantações, como por exemplo,  plantação de batata ou de trigo. Sem o conceito de herança, deveríamos criar uma classe para cada tipo de plantação diferente.\n",
    "\n",
    "A herança é um mecanismo que permite que diferentes tipos de plantações tenham algumas características em comum, herdadas de determinada \"classe mãe\", no caso, da classe $Crop$."
   ]
  },
  {
   "cell_type": "markdown",
   "metadata": {},
   "source": [
    "# Polimorfismo\n",
    "\n",
    "Em uma classe filha, podemos mudar como alguns métodos funcionam, mantendo o mesmo nome de um método existente em outra classe. Isso é chamado de polimorfismo ou _overriding_ e sua aplicação permite que não haja a necessidade de ficar criando novos métodos para funcionalidades similares entre classes."
   ]
  },
  {
   "cell_type": "markdown",
   "metadata": {},
   "source": [
    "## Implementando herança e polimorfismo\n",
    "\n",
    "Para implementar herança e polimorfismo, criamos as classes de plantações específicas. Nesse caso, consideramos uma classe que representa plantação de batatas ($Potato$), e outra de trigo ($Wheat$). Note que ambas as classes herdam da classe $Crop$, portanto, possuem alguns atributos e métodos em comum."
   ]
  },
  {
   "cell_type": "code",
   "execution_count": 186,
   "metadata": {
    "collapsed": true
   },
   "outputs": [],
   "source": [
    "# potato_class.py\n",
    "class Potato(Crop): \n",
    "    \"\"\"Classe Batata, herda de Crop.\"\"\"\n",
    "    \n",
    "    # Construtor\n",
    "    def __init__(self):\n",
    "        # A classe batata contém valores padrões para \n",
    "        # growth_rate = 1, light_need = 3 e water_need = 6 (atributos contidos na classe mãe)\n",
    "        super().__init__(1, 3, 6)\n",
    "        self._type = \"Batata\" # O tipo agora não é mais genérico, e sim Batata\n",
    "    \n",
    "    # Overriding no método grow para a subclasse Batata\n",
    "    def grow(self, light, water):\n",
    "        if light >= self._light_need and water >= self._water_need:\n",
    "            if self._status == \"Germinando\" and water > self._water_need:\n",
    "                self._growth += self._growth_rate * 1.5\n",
    "            elif self._status == \"Nova\" and water > self._water_need:\n",
    "                self._growth += self._growth_rate * 1.25\n",
    "            else:\n",
    "                self._growth += self._growth_rate\n",
    "        # Incremento dos dias de crescimento\n",
    "        self._days_growing += 1\n",
    "        # Atualização do estado:\n",
    "        self._update_status()\n",
    "    "
   ]
  },
  {
   "cell_type": "markdown",
   "metadata": {},
   "source": [
    "O método grow de $Potato$ irá se sobrepor ao método grow herdado de $Crop$, portanto a forma que uma batata irá crescer será diferente de uma plantação genérica."
   ]
  },
  {
   "cell_type": "markdown",
   "metadata": {},
   "source": [
    "__Nota__: a linha de código $super().__init__(1, 3, 6)$ permite que os atributos de uma instância de Potato sejam herdados da classe mãe $Crop$. Veja que todas as batatas a serem instanciadas, terão sempre os mesmos valores de taxa de crescimento, água e luz necessárias e o tipo da plantação deixa de ser genérico e passar a ser \"Batata\""
   ]
  },
  {
   "cell_type": "code",
   "execution_count": 187,
   "metadata": {
    "collapsed": true
   },
   "outputs": [],
   "source": [
    "# wheat_class.py\n",
    "class Wheat(Crop):\n",
    "    \"Classe Trigo, herda de Crop\"\n",
    "    \n",
    "    # Construtor\n",
    "    def __init__(self):\n",
    "        super().__init__(2, 4, 7)\n",
    "        self._type = \"Trigo\" \n",
    "    \n",
    "    # Overriding no método grow para a subclasse Wheat\n",
    "    def grow(self, light, water):\n",
    "        if light >= self._light_need and water >= self._water_need:\n",
    "            if self._status == \"Germinando\":\n",
    "                self._growth += self._growth_rate * 1.5\n",
    "            elif self._status == \"Nova\":\n",
    "                self._growth += self._growth_rate * 1.25\n",
    "            elif self._status == \"Velha\":\n",
    "                self._growth += self._growth_rate / 2\n",
    "            else:\n",
    "                self._growth += self._growth_rate\n",
    "        # Incremento dos dias de crescimento\n",
    "        self._days_growing += 1\n",
    "        # Atualização do estado:\n",
    "        self._update_status()\n"
   ]
  },
  {
   "cell_type": "markdown",
   "metadata": {},
   "source": [
    "__Nota__: especificamente para a plantação de batatas e trigo, caso a safra tenha quantidade necessária de água e luz, dependendo do estado da planta, a taxa de crescimento será maior"
   ]
  },
  {
   "cell_type": "code",
   "execution_count": 189,
   "metadata": {
    "scrolled": false
   },
   "outputs": [
    {
     "name": "stdout",
     "output_type": "stream",
     "text": [
      "Relatório Batata 1 - Estado inicial - {'crescimento': 0, 'dias crescendo': 0, 'tipo': 'Batata', 'estado': 'Semente'}\n",
      "\n",
      "Necessidades da Batata: {'agua necessaria': 6, 'luz necessaria': 3}\n",
      "Por favor, insira o valor de luz (1-10): 3\n",
      "Por favor, insira o valor de água (1-10): 6\n",
      "Relatório Batata 2 - Manual - {'crescimento': 1, 'dias crescendo': 1, 'tipo': 'Batata', 'estado': 'Germinando'}\n",
      "Por favor, insira o valor de luz (1-10): 2\n",
      "Por favor, insira o valor de água (1-10): 5\n",
      "Relatório Batata 3 - Manual - {'crescimento': 1, 'dias crescendo': 2, 'tipo': 'Batata', 'estado': 'Germinando'}\n",
      "\n",
      "Necessidades do Trigo: {'agua necessaria': 7, 'luz necessaria': 4}\n",
      "Relatório Trigo 1 - Estado inicial - {'crescimento': 0, 'dias crescendo': 0, 'tipo': 'Trigo', 'estado': 'Semente'}\n",
      "Relatório Trigo 2 - Automático (10 dias) - {'crescimento': 8.0, 'dias crescendo': 10, 'tipo': 'Trigo', 'estado': 'Nova'}\n",
      "Relatório Trigo 3 - Automárico (10 dias) - {'crescimento': 12.5, 'dias crescendo': 20, 'tipo': 'Trigo', 'estado': 'Adulta'}\n"
     ]
    }
   ],
   "source": [
    "# potato_class.py\n",
    "def main():\n",
    "    \"\"\"Testa as funcionalidades da herança e polimorfismo, criando uma nova instância de Potato\"\"\"\n",
    "    # Cria uma nova plantação de batata:\n",
    "    potato_crop = Potato()\n",
    "    wheat_crop = Wheat()\n",
    "    print(\"Relatório Batata 1 - Estado inicial - {}\".format(potato_crop.report())) \n",
    "    # Note que o método report() foi herdado da classe Crop.\n",
    "    \n",
    "    # Dois crescimentos manuais para batata\n",
    "    print()\n",
    "    print(\"Necessidades da Batata: {}\".format(potato_crop.needs()))\n",
    "    manual_grow(potato_crop)\n",
    "    print(\"Relatório Batata 2 - Manual - {}\".format(potato_crop.report()))\n",
    "    manual_grow(potato_crop)\n",
    "    print(\"Relatório Batata 3 - Manual - {}\".format(potato_crop.report()))    \n",
    "    print()\n",
    "    print(\"Necessidades do Trigo: {}\".format(wheat_crop.needs()))\n",
    "    print(\"Relatório Trigo 1 - Estado inicial - {}\".format(wheat_crop.report())) \n",
    "    auto_grow(wheat_crop, 10)\n",
    "    print(\"Relatório Trigo 2 - Automático (10 dias) - {}\".format(wheat_crop.report()))\n",
    "    auto_grow(wheat_crop, 10)\n",
    "    print(\"Relatório Trigo 3 - Automárico (10 dias) - {}\".format(wheat_crop.report()))\n",
    "    \n",
    "if __name__ == \"__main__\":\n",
    "    main()"
   ]
  },
  {
   "cell_type": "markdown",
   "metadata": {},
   "source": [
    "Perceba que na criação de uma nova batata, não serão necessários passar valores para água, luz e taxa de crescimento, pois esses valores são fixados no construtor da classe. Veja também que batatas e trigos tem diferentes métodos de crescimento, porém a chamada do método $grow$ é a mesma"
   ]
  },
  {
   "cell_type": "markdown",
   "metadata": {},
   "source": [
    "__Nota__: uma boa prática em python é criar um arquivo (.py) para cada classe, chamados módulos. Esses módulos podem ser importados em qualquer arquivo python e as classes importadas podem ser acessadas entre eles. Isso é feito com a seguinte linha de código: ```from crop_class import *```, que importa todas (*) as classes e métodos  de um módulo (crop_class.py)."
   ]
  },
  {
   "cell_type": "markdown",
   "metadata": {},
   "source": [
    "Como estamos utilizando um jupyter notebook onde a classe já foi criada anteriormente, não é necessário importar o módulo de uma classe em outra. Em um projeto estruturado em módulos, criamos uma classe crop_class.py contendo a classe Crop e a importamos nos arquivos potato_class.py e wheat_class.py."
   ]
  },
  {
   "cell_type": "markdown",
   "metadata": {},
   "source": [
    "# Atualizando o Menu de Gerenciamento\n",
    "\n",
    "Queremos para cada tipo de plantação, um tipo de gerenciamento diferente. Temos, portanto, a seguinte estrutura:"
   ]
  },
  {
   "cell_type": "markdown",
   "metadata": {},
   "source": [
    "* Selecionar Plantação:\n",
    "    1. Batata\n",
    "    2. Trigo\n",
    "* Gerenciar Plantação:\n",
    "    1. Realizar crescimento manual\n",
    "    2. Realizar crescimento automático por 30 dias\n",
    "    3. Mostrar relatório da plantação\n",
    "    4. Sair do programa"
   ]
  },
  {
   "cell_type": "markdown",
   "metadata": {},
   "source": [
    "Para essa etapa, deve ser criado um novo módulo crops.py e importar os módulos wheat_class.py e potato_class.py para que o menu interaja com ambas as classes."
   ]
  },
  {
   "cell_type": "code",
   "execution_count": 190,
   "metadata": {},
   "outputs": [
    {
     "name": "stdout",
     "output_type": "stream",
     "text": [
      "\n",
      "Qual plantação você deseja criar?\n",
      "\n",
      "\u001b[34m1. Batata\u001b[0m\n",
      "\u001b[34m2. Trigo\u001b[0m\n",
      "\n",
      "Opção selecionada: 1\n",
      "\n",
      "Esse é o programa de gerenciamento da plantação\n",
      "\n",
      "\u001b[34m1. Realizar crescimento por 1 dia\u001b[0m\n",
      "\u001b[34m2. Realizar crescimento automático por 30 dias\u001b[0m\n",
      "\u001b[34m3. Mostrar relatório\u001b[0m\n",
      "\u001b[34m4. Sair do programa\u001b[0m\n",
      "\n",
      "Opção selecionada: 1\n",
      "\n",
      "Por favor, insira o valor de luz (1-10): 3\n",
      "Por favor, insira o valor de água (1-10): 6\n",
      "\n",
      "\u001b[34m1. Realizar crescimento por 1 dia\u001b[0m\n",
      "\u001b[34m2. Realizar crescimento automático por 30 dias\u001b[0m\n",
      "\u001b[34m3. Mostrar relatório\u001b[0m\n",
      "\u001b[34m4. Sair do programa\u001b[0m\n",
      "\n",
      "Opção selecionada: 3\n",
      "\n",
      "\u001b[32m{'crescimento': 1, 'dias crescendo': 1, 'tipo': 'Batata', 'estado': 'Germinando'}\u001b[0m\n",
      "\n",
      "\u001b[34m1. Realizar crescimento por 1 dia\u001b[0m\n",
      "\u001b[34m2. Realizar crescimento automático por 30 dias\u001b[0m\n",
      "\u001b[34m3. Mostrar relatório\u001b[0m\n",
      "\u001b[34m4. Sair do programa\u001b[0m\n",
      "\n",
      "Opção selecionada: 2\n",
      "\n",
      "\n",
      "\u001b[34m1. Realizar crescimento por 1 dia\u001b[0m\n",
      "\u001b[34m2. Realizar crescimento automático por 30 dias\u001b[0m\n",
      "\u001b[34m3. Mostrar relatório\u001b[0m\n",
      "\u001b[34m4. Sair do programa\u001b[0m\n",
      "\n",
      "Opção selecionada: 3\n",
      "\n",
      "\u001b[32m{'crescimento': 13.0, 'dias crescendo': 31, 'tipo': 'Batata', 'estado': 'Adulta'}\u001b[0m\n",
      "\n",
      "\u001b[34m1. Realizar crescimento por 1 dia\u001b[0m\n",
      "\u001b[34m2. Realizar crescimento automático por 30 dias\u001b[0m\n",
      "\u001b[34m3. Mostrar relatório\u001b[0m\n",
      "\u001b[34m4. Sair do programa\u001b[0m\n",
      "\n",
      "Opção selecionada: 8\n",
      "\u001b[31mPor favor, insira uma opção válida\u001b[0m\n",
      "Opção selecionada: 1\n",
      "\n",
      "Por favor, insira o valor de luz (1-10): 20\n",
      "\u001b[31mValor inválido - por favor, insira um valor entre 1 e 10\u001b[0m\n",
      "Por favor, insira o valor de luz (1-10): 10\n",
      "Por favor, insira o valor de água (1-10): 4\n",
      "\n",
      "\u001b[34m1. Realizar crescimento por 1 dia\u001b[0m\n",
      "\u001b[34m2. Realizar crescimento automático por 30 dias\u001b[0m\n",
      "\u001b[34m3. Mostrar relatório\u001b[0m\n",
      "\u001b[34m4. Sair do programa\u001b[0m\n",
      "\n",
      "Opção selecionada: 3\n",
      "\n",
      "\u001b[32m{'crescimento': 13.0, 'dias crescendo': 32, 'tipo': 'Batata', 'estado': 'Adulta'}\u001b[0m\n",
      "\n",
      "\u001b[34m1. Realizar crescimento por 1 dia\u001b[0m\n",
      "\u001b[34m2. Realizar crescimento automático por 30 dias\u001b[0m\n",
      "\u001b[34m3. Mostrar relatório\u001b[0m\n",
      "\u001b[34m4. Sair do programa\u001b[0m\n",
      "\n",
      "Opção selecionada: 4\n",
      "\n",
      "\n",
      "Obrigado por utilizar o gerenciador da plantação!\n"
     ]
    }
   ],
   "source": [
    "# crops.py\n",
    "# from wheat_class import *\n",
    "# from potato_class import *\n",
    "\n",
    "def display_create_menu():\n",
    "    print()\n",
    "    print(\"Qual plantação você deseja criar?\")\n",
    "    print()\n",
    "    print(colored(\"1. Batata\", \"blue\"))\n",
    "    print(colored(\"2. Trigo\", \"blue\"))\n",
    "    print()\n",
    "    \n",
    "def select_option():\n",
    "    # Garantir que a opção escolhida é valida\n",
    "    valid_option = False \n",
    "    while not valid_option:\n",
    "        try:\n",
    "            choice = int(input(\"Opção selecionada: \"))\n",
    "            if choice in (1, 2):\n",
    "                valid_option = True\n",
    "            else:\n",
    "                print(colored(\"Por favor, insira uma opção válida\", \"red\"))\n",
    "        except ValueError:\n",
    "            print(colored(\"Por favor, insira uma opção válida\", \"red\"))\n",
    "    return choice\n",
    "\n",
    "def create_crop():\n",
    "    # Mostra o menu e seleciona a plantação\n",
    "    display_create_menu()\n",
    "    choice = select_option()\n",
    "    if choice == 1:\n",
    "        new_crop = Potato()\n",
    "    elif choice == 2:\n",
    "        new_crop = Wheat()\n",
    "    return new_crop\n",
    "\n",
    "def main():\n",
    "    new_crop = create_crop()\n",
    "    manage_crop(new_crop)\n",
    "    \n",
    "if __name__ == \"__main__\":\n",
    "    main()"
   ]
  },
  {
   "cell_type": "code",
   "execution_count": null,
   "metadata": {
    "collapsed": true
   },
   "outputs": [],
   "source": []
  }
 ],
 "metadata": {
  "kernelspec": {
   "display_name": "Python 3",
   "language": "python",
   "name": "python3"
  },
  "language_info": {
   "codemirror_mode": {
    "name": "ipython",
    "version": 3
   },
   "file_extension": ".py",
   "mimetype": "text/x-python",
   "name": "python",
   "nbconvert_exporter": "python",
   "pygments_lexer": "ipython3",
   "version": "3.5.2"
  }
 },
 "nbformat": 4,
 "nbformat_minor": 2
}
